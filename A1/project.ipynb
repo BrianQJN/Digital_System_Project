{
 "cells": [
  {
   "cell_type": "markdown",
   "metadata": {},
   "source": [
    "# Project 1 Design Tradeoffs in Digital Systems"
   ]
  },
  {
   "cell_type": "markdown",
   "metadata": {},
   "source": [
    "### E1 Chroma up-sampling, YUV pixel manipulation, YUV-RGB CSC"
   ]
  },
  {
   "cell_type": "markdown",
   "metadata": {},
   "source": [
    "#### 1.a Read the YUV 4:2:0 video sequence(s), and upscale it to 4:4:4"
   ]
  },
  {
   "cell_type": "code",
   "execution_count": 1,
   "metadata": {},
   "outputs": [],
   "source": [
    "import numpy as np\n",
    "\n",
    "def read_yuv420_video(yuv_file_path: str, width: int, height: int, num_frames: int) -> (list, list, list):\n",
    "    \"\"\"\n",
    "    Read YUV420 video file, and return pixel data of the three components Y, U, and V.\n",
    "    Args:\n",
    "        yuv_file_path (str): Path of the YUV420 video file.\n",
    "        width (int): Width of the video.\n",
    "        height (int): Height of the video.\n",
    "        num_frames (int): Number of frames to read.\n",
    "    Returns:\n",
    "        y_data (list): A list of pixel data for the brightness (Y) component\n",
    "        cb_data (list): The list of pixel data for the chroma (Cb) component\n",
    "        cr_data (list): The list of pixel data for the chroma (Cr) component\n",
    "    \"\"\"\n",
    "    # initialize the three lists of pixel data\n",
    "    y_data = []\n",
    "    cb_data = []\n",
    "    cr_data = []\n",
    "\n",
    "    with open(yuv_file_path, 'rb') as file:\n",
    "        for _ in range(num_frames):\n",
    "            # read the Y component\n",
    "            y_frame = np.fromfile(file, dtype=np.uint8, count=width * height).reshape((height, width))\n",
    "            y_data.append(y_frame)\n",
    "\n",
    "            # read the U component\n",
    "            cb_frame = np.fromfile(file, dtype=np.uint8, count=(width // 2) * (height // 2)).reshape((height // 2, width // 2))\n",
    "            cb_data.append(cb_frame)\n",
    "\n",
    "            # read the V component\n",
    "            cr_frame = np.fromfile(file, dtype=np.uint8, count=(width // 2) * (height // 2)).reshape((height // 2, width // 2))\n",
    "            cr_data.append(cr_frame)\n",
    "\n",
    "    file.close()\n",
    "\n",
    "    return y_data, cb_data, cr_data\n",
    "\n",
    "\n",
    "def upscale_420_to_444(y_data: list, cb_data: list, cr_data: list) -> list:\n",
    "    \"\"\"\n",
    "    Scale 4:2:0 pixel data to 4:4:4 pixel data.\n",
    "    Args:\n",
    "        y_data (list): A list of pixel data for the brightness (Y) component\n",
    "        cb_data (list): The list of pixel data for the chroma (Cb) component\n",
    "        cr_data (list): The list of pixel data for the chroma (Cr) component\n",
    "    Returns:\n",
    "        yuv444_data (list): A list of pixel data for the YUV444 video.\n",
    "    \"\"\"\n",
    "    # initialize the list of pixel data for the YUV444 video\n",
    "    yuv444_data = []\n",
    "\n",
    "    for y_frame, cb_frame, cr_frame in zip(y_data, cb_data, cr_data):\n",
    "        # upscale the U(cb) and V(cr) component, copy to fill\n",
    "        cb_upsampled = np.repeat(np.repeat(cb_frame, 2, axis=0), 2, axis=1)\n",
    "        cr_upsampled = np.repeat(np.repeat(cr_frame, 2, axis=0), 2, axis=1)\n",
    "\n",
    "        # combine the Y, U, and V component\n",
    "        yuv444_frame = np.dstack((y_frame, cb_upsampled, cr_upsampled))\n",
    "        yuv444_data.append(yuv444_frame)\n",
    "\n",
    "    return yuv444_data\n",
    "\n",
    "\n",
    "def save_yuv444_video(yuv444_data: list, output_file: str) -> None:\n",
    "    \"\"\"\n",
    "    Save the YUV444 video to a file.\n",
    "    Args:\n",
    "        yuv444_data (list): A list of pixel data for the YUV444 video.\n",
    "        output_file (str): Path of the output file.\n",
    "    \"\"\"\n",
    "    with open(output_file, 'wb') as file:\n",
    "        for frame in yuv444_data:\n",
    "            frame.tofile(file)\n",
    "\n",
    "    file.close()"
   ]
  },
  {
   "cell_type": "markdown",
   "metadata": {},
   "source": [
    "#### Test for 1.a"
   ]
  },
  {
   "cell_type": "code",
   "execution_count": 2,
   "metadata": {},
   "outputs": [],
   "source": [
    "input_file = \"videos/420/foreman_cif.yuv\"\n",
    "output_file = \"videos/444/foreman_cif.yuv\"\n",
    "width = 352\n",
    "height = 288\n",
    "num_frames = 300\n",
    "\n",
    "# read the YUV420 video\n",
    "y_data, u_data, v_data = read_yuv420_video(input_file, width, height, num_frames)\n",
    "\n",
    "# upscale the YUV420 video to YUV444\n",
    "yuv444_data = upscale_420_to_444(y_data, u_data, v_data)\n",
    "\n",
    "# save the YUV444 video\n",
    "save_yuv444_video(yuv444_data, output_file)"
   ]
  },
  {
   "cell_type": "markdown",
   "metadata": {},
   "source": [
    "#### 1.b Convert the YUV 4:4:4 video sequence(s) to RGB"
   ]
  },
  {
   "cell_type": "code",
   "execution_count": 11,
   "metadata": {},
   "outputs": [],
   "source": [
    "from PIL import Image\n",
    "import numpy as np\n",
    "\n",
    "def yuv444_to_rgb(yuv444_data: list, csc_matrix: list) -> list:\n",
    "    \"\"\"\n",
    "    Convert YUV 4:4:4 pixel data to RGB pixel data.\n",
    "    Args:\n",
    "        yuv444_data (list): 444yuv pixel data list\n",
    "        csc_matrix (list): convert matrix\n",
    "    Returns:\n",
    "        rgb_data (list): RGB pixel data list\n",
    "    \"\"\"\n",
    "    rgb_data = []\n",
    "\n",
    "    for yuv_frame in yuv444_data:\n",
    "        # convert 444yuv pixel data to matrix\n",
    "        yuv_matrix = np.array(yuv_frame).reshape(-1, 3)\n",
    "\n",
    "        # convert 444yuv pixel data to 444rgb pixel data\n",
    "        rgb_matrix = np.dot(yuv_matrix - [16, 128, 128], np.array(csc_matrix).reshape(3, 3).T)\n",
    "\n",
    "        # convert 444rgb pixel data to 444rgb frame data\n",
    "        rgb_frame = np.clip(rgb_matrix, 0, 255).astype(np.uint8).reshape(yuv_frame.shape)\n",
    "\n",
    "        # add rgb frame data to rgb data list\n",
    "        rgb_data.append(rgb_frame)\n",
    "\n",
    "    return rgb_data\n",
    "\n",
    "def save_rgb_images(rgb_data: list, output_prefix: str, stop_frame=300) -> None:\n",
    "    \"\"\"\n",
    "    Convert RGB pixel data to RGB images and save them as .png files.\n",
    "    Args:\n",
    "        rgb_data (list): rgb pixel data list\n",
    "        output_prefix (str): png file prefix\n",
    "    \"\"\"\n",
    "    for i, rgb_frame in enumerate(rgb_data):\n",
    "        # create pillow image object\n",
    "        img = Image.fromarray(rgb_frame)\n",
    "\n",
    "        # save image\n",
    "        img.save(f\"{output_prefix}/{i:03d}.png\")\n",
    "        if i == stop_frame:\n",
    "            break"
   ]
  },
  {
   "cell_type": "markdown",
   "metadata": {},
   "source": [
    "#### Test for 1.b"
   ]
  },
  {
   "cell_type": "code",
   "execution_count": 12,
   "metadata": {},
   "outputs": [],
   "source": [
    "csc_matrix = [1.164, 0, 1.596, 1.164, -0.392, -0.813, 1.164, 2.017, 0]\n",
    "\n",
    "rgb_data = yuv444_to_rgb(yuv444_data, csc_matrix)\n",
    "\n",
    "save_rgb_images(rgb_data, \"images\", 4)"
   ]
  }
 ],
 "metadata": {
  "kernelspec": {
   "display_name": "base",
   "language": "python",
   "name": "python3"
  },
  "language_info": {
   "codemirror_mode": {
    "name": "ipython",
    "version": 3
   },
   "file_extension": ".py",
   "mimetype": "text/x-python",
   "name": "python",
   "nbconvert_exporter": "python",
   "pygments_lexer": "ipython3",
   "version": "3.9.12"
  }
 },
 "nbformat": 4,
 "nbformat_minor": 2
}
